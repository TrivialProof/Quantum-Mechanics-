{
 "cells": [
  {
   "cell_type": "markdown",
   "metadata": {},
   "source": [
    "# Exercise 1.1"
   ]
  },
  {
   "cell_type": "markdown",
   "metadata": {},
   "source": [
    "a). Using the axioms for inner products, prove\n",
    "\\begin{equation*}\n",
    "\\big\\{ \\langle A \\vert + \\langle B \\vert \\big\\} \\vert C \\rangle = \\langle A \\vert C \\rangle + \\langle B \\vert C \\rangle\n",
    "\\end{equation*}"
   ]
  },
  {
   "cell_type": "markdown",
   "metadata": {},
   "source": [
    "**Solution:**\n",
    "\n",
    "We just use the fact that they are linear. Given in the text that \n",
    "\n",
    "\\begin{equation*}\n",
    "\\langle C \\vert \\big\\{ \\vert A \\rangle + \\vert B \\rangle \\big\\} = \\langle C \\vert A \\rangle + \\langle C \\vert B \\rangle\n",
    "\\end{equation*}\n",
    "then its not a big jump to see\n",
    "\\begin{equation*}\n",
    "\\big\\{ \\langle A \\vert + \\langle B \\vert \\big\\} \\vert C \\rangle = \\langle A \\vert C \\rangle + \\langle B \\vert C \\rangle\n",
    "\\end{equation*}"
   ]
  },
  {
   "cell_type": "markdown",
   "metadata": {},
   "source": [
    "b). Prove $\\langle A \\vert A \\rangle $ is a real number.\n"
   ]
  },
  {
   "cell_type": "markdown",
   "metadata": {},
   "source": [
    "**Solution:**\n",
    "\n",
    "Since \n",
    "\n",
    "\\begin{equation*}\n",
    "\\vert A \\rangle = \\begin{pmatrix}\n",
    "\\alpha_{1} \\\\\n",
    "\\alpha_{2} \\\\\n",
    "\\alpha_{3} \\\\\n",
    "\\alpha_{4} \\\\\n",
    "\\alpha_{5} \\\\\n",
    "\\end{pmatrix}\n",
    "\\end{equation*}\n",
    "\n",
    "and \n",
    "\n",
    "\\begin{equation*}\n",
    "\\langle A \\vert = \\begin{pmatrix}\n",
    "\\alpha_{1}^{*} \\space \\alpha_{2}^{*} \\space \\alpha_{3}^{*} \\space \\alpha_{4}^{*} \\space \\alpha_{5}^{*}\\\\\n",
    "\\end{pmatrix}\n",
    "\\end{equation*}\n",
    "\n",
    "then\n",
    "\n",
    "\\begin{equation*}\n",
    "\\langle A \\vert A \\rangle = \\begin{pmatrix}\n",
    "\\alpha_{1}^{*} \\space \\alpha_{2}^{*} \\space \\alpha_{3}^{*} \\space \\alpha_{4}^{*} \\space \\alpha_{5}^{*}\\\\\n",
    "\\end{pmatrix} \\begin{pmatrix}\n",
    "\\alpha_{1} \\\\\n",
    "\\alpha_{2} \\\\\n",
    "\\alpha_{3} \\\\\n",
    "\\alpha_{4} \\\\\n",
    "\\alpha_{5} \\\\\n",
    "\\end{pmatrix} = \\alpha_{1}^{*} \\alpha_{1} + \\alpha_{2}^{*} \\alpha_{2} + \\alpha_{3}^{*} \\alpha_{3} + \\alpha_{4}^{*} \\alpha_{4} + \\alpha_{5}^{*} \\alpha_{5}\n",
    "\\end{equation*}.\n",
    "\n",
    "And since any complex number times its compex conjugate $z^{*} z = r^{2} $, where $r$ is a real number, then \n",
    "\n",
    "\\begin{equation*}\n",
    "\\langle A \\vert A \\rangle = 5r^{2}\n",
    "\\end{equation*}\n",
    "\n",
    "which is a real number."
   ]
  }
 ],
 "metadata": {
  "kernelspec": {
   "display_name": "Python 3",
   "language": "python",
   "name": "python3"
  },
  "language_info": {
   "codemirror_mode": {
    "name": "ipython",
    "version": 3
   },
   "file_extension": ".py",
   "mimetype": "text/x-python",
   "name": "python",
   "nbconvert_exporter": "python",
   "pygments_lexer": "ipython3",
   "version": "3.7.4"
  }
 },
 "nbformat": 4,
 "nbformat_minor": 2
}
